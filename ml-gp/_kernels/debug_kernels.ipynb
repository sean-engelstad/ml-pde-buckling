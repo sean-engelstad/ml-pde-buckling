{
 "cells": [
  {
   "cell_type": "code",
   "execution_count": 37,
   "metadata": {},
   "outputs": [],
   "source": [
    "# generate random x_train, x_bndry values\n",
    "import numpy as np\n",
    "import tensorflow as tf\n",
    "np.random.seed(123)\n",
    "\n",
    "nI, nB = (3, 3)\n",
    "\n",
    "x_train = np.random.rand(nI,2)\n",
    "x_bndry = np.random.rand(nB,2)"
   ]
  },
  {
   "cell_type": "code",
   "execution_count": 38,
   "metadata": {},
   "outputs": [
    {
     "name": "stdout",
     "output_type": "stream",
     "text": [
      "xbar=<tf.Tensor: shape=(3, 3), dtype=float64, numpy=\n",
      "array([[2.44835502, 1.20091315, 2.83277359],\n",
      "       [3.8282198 , 1.49917176, 1.06209201],\n",
      "       [1.84915028, 1.20270786, 2.4248513 ]])>\n",
      "xbar.shape=TensorShape([3, 3, 2])\n"
     ]
    }
   ],
   "source": [
    "# define kernels for tensorflow method\n",
    "L = 0.2\n",
    "import tensorflow as tf\n",
    "import matplotlib.pyplot as plt\n",
    "DTYPE = tf.float64\n",
    "\n",
    "def kernel(x, xp):\n",
    "    xbar = (x - xp) / L\n",
    "    print(f\"{xbar.shape=}\")\n",
    "    return tf.exp(-0.5 * tf.reduce_sum(tf.pow(xbar, 2.0), axis=-1))\n",
    "\n",
    "def kernel_lapl(x, xp):\n",
    "    xbar = tf.linalg.norm(x - xp, axis=-1)/L\n",
    "    print(f\"{xbar=}\")\n",
    "    K = kernel(x, xp)\n",
    "    return K * (xbar**2 - 2.0) / L**2\n",
    "\n",
    "def kernel_lapl2(x, xp):\n",
    "    xbar = tf.reduce_sum((x - xp) / L, axis=-1)\n",
    "    K = kernel(x, xp)\n",
    "    return K * (xbar**4 - 8 * xbar**2 + 8) / L**4\n",
    "\n",
    "x_all_L = tf.expand_dims(x_train, axis=1)\n",
    "x_interior_R = tf.expand_dims(x_bndry, axis=0)\n",
    "K12_tf = tf.constant(kernel_lapl(x_all_L, x_interior_R), dtype=DTYPE)\n",
    "# plt.imshow(K12_tf)\n",
    "# plt.colorbar()"
   ]
  },
  {
   "cell_type": "code",
   "execution_count": 39,
   "metadata": {},
   "outputs": [
    {
     "name": "stdout",
     "output_type": "stream",
     "text": [
      "Building K(x,phi) and K(phi,phi) matrices...\n",
      "xm=array([0.69646919, 0.28613933]) xl=array([0.9807642 , 0.68482974])\n",
      "xm=array([0.69646919, 0.28613933]) xl=array([0.4809319 , 0.39211752])\n",
      "xm=array([0.69646919, 0.28613933]) xl=array([0.34317802, 0.72904971])\n",
      "xm=array([0.22685145, 0.55131477]) xl=array([0.9807642 , 0.68482974])\n",
      "xm=array([0.22685145, 0.55131477]) xl=array([0.4809319 , 0.39211752])\n",
      "xm=array([0.22685145, 0.55131477]) xl=array([0.34317802, 0.72904971])\n",
      "xm=array([0.71946897, 0.42310646]) xl=array([0.9807642 , 0.68482974])\n",
      "xm=array([0.71946897, 0.42310646]) xl=array([0.4809319 , 0.39211752])\n",
      "xm=array([0.71946897, 0.42310646]) xl=array([0.34317802, 0.72904971])\n",
      "K12_tf=<tf.Tensor: shape=(3, 3), dtype=float64, numpy=\n",
      "array([[  4.98562436,  -6.78041586,   2.72488122],\n",
      "       [  0.2079029 ,   2.0114134 , -12.40184219],\n",
      "       [  6.41989159,  -6.7134839 ,   5.12809519]])>\n",
      "K12_old=array([[  4.98562436,  -6.78041586,   2.72488122],\n",
      "       [  0.2079029 ,   2.0114134 , -12.40184219],\n",
      "       [  6.41989159,  -6.7134839 ,   5.12809519]])\n",
      "rel_err=<tf.Tensor: shape=(3, 3), dtype=float64, numpy=\n",
      "array([[8.90739410e-16, 5.23966929e-16, 9.77853728e-16],\n",
      "       [1.33502588e-16, 4.41569307e-16, 2.86466609e-16],\n",
      "       [4.15043653e-16, 2.64595382e-16, 1.21238953e-15]])>\n"
     ]
    }
   ],
   "source": [
    "# define kernels my old python style\n",
    "G_sigma = 0.2\n",
    "eta = 1e-5\n",
    "print(\"Building K(x,phi) and K(phi,phi) matrices...\")\n",
    "def kernel(xm, xl, sigma=1, order=0):\n",
    "    D = xm.shape[0]\n",
    "    norm_sq = np.dot(xm-xl, xm-xl)\n",
    "    if order == 0: # regular function\n",
    "        return np.exp(-norm_sq/2.0/sigma**2)\n",
    "    elif order == 1: # first Laplacian\n",
    "        K = kernel(xm,xl,sigma=sigma, order=0)\n",
    "        return 1 * K * (norm_sq - D * sigma**2) / sigma**4\n",
    "    elif order == 2:\n",
    "        K = kernel(xm,xl,sigma=sigma, order=0)\n",
    "        return K * (norm_sq**2 - 2 * (2 + D) * norm_sq * sigma**2 + D * (2 + D) * sigma**4) / sigma**8\n",
    "    \n",
    "X = np.concatenate([x_train, x_bndry, x_train], axis=0)\n",
    "\n",
    "K12_old = np.zeros((nI, nB))\n",
    "for m in range(nI):\n",
    "    xm = x_train[m,:]\n",
    "    for l in range(nB):\n",
    "        xl = x_bndry[l,:]\n",
    "        # l_2nd = l >= nB + nI\n",
    "        # deriv_order = 1.0 * (m_2nd + l_2nd)\n",
    "        # double check the sign stuff here\n",
    "        # sgn1 = 1.0 if deriv_order == 1.0 else 1.0\n",
    "        # sgn2 = 1.0 if l_2nd else 1.0\n",
    "        print(f\"{xm=} {xl=}\")\n",
    "        K12_old[m,l] = kernel(xm,xl,sigma=G_sigma, order=1)\n",
    "\n",
    "# plt.imshow(K12_old)\n",
    "# plt.colorbar()\n",
    "rel_err = abs((K12_tf - K12_old) / K12_old)\n",
    "print(f\"{K12_tf=}\")\n",
    "print(f\"{K12_old=}\")\n",
    "print(f\"{rel_err=}\")"
   ]
  }
 ],
 "metadata": {
  "kernelspec": {
   "display_name": "F2F",
   "language": "python",
   "name": "python3"
  },
  "language_info": {
   "codemirror_mode": {
    "name": "ipython",
    "version": 3
   },
   "file_extension": ".py",
   "mimetype": "text/x-python",
   "name": "python",
   "nbconvert_exporter": "python",
   "pygments_lexer": "ipython3",
   "version": "3.9.18"
  }
 },
 "nbformat": 4,
 "nbformat_minor": 2
}
