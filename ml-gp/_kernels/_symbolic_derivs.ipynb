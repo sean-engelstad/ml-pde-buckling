{
 "cells": [
  {
   "cell_type": "code",
   "execution_count": null,
   "metadata": {},
   "outputs": [
    {
     "name": "stdout",
     "output_type": "stream",
     "text": [
      "kernel=exp(-0.5*sin(pi*(x - xp)/p)**2/L**2)\n",
      "lapl2_kernel_fact=1.0*pi**2*(sin(pi*(x - xp)/p)**2 - cos(pi*(x - xp)/p)**2 + sin(pi*(x - xp)/p)**2*cos(pi*(x - xp)/p)**2/L**2)/(L**2*p**2)\n",
      "lapl4_kernel_fact=pi**4*(-4.0*sin(pi*(x - xp)/p)**2 + 4.0*cos(pi*(x - xp)/p)**2 + 3.0*sin(pi*(x - xp)/p)**4/L**2 - 22.0*sin(pi*(x - xp)/p)**2*cos(pi*(x - xp)/p)**2/L**2 + 3.0*cos(pi*(x - xp)/p)**4/L**2 + 6.0*sin(pi*(x - xp)/p)**4*cos(pi*(x - xp)/p)**2/L**4 - 6.0*sin(pi*(x - xp)/p)**2*cos(pi*(x - xp)/p)**4/L**4 + 1.0*sin(pi*(x - xp)/p)**4*cos(pi*(x - xp)/p)**4/L**6)/(L**2*p**4)\n",
      "lapl6_kernel_fact=pi**6*(16.0*sin(pi*(x - xp)/p)**2 - 16.0*cos(pi*(x - xp)/p)**2 - 60.0*sin(pi*(x - xp)/p)**4/L**2 + 376.0*sin(pi*(x - xp)/p)**2*cos(pi*(x - xp)/p)**2/L**2 - 60.0*cos(pi*(x - xp)/p)**4/L**2 + 15.0*sin(pi*(x - xp)/p)**6/L**4 - 345.0*sin(pi*(x - xp)/p)**4*cos(pi*(x - xp)/p)**2/L**4 + 345.0*sin(pi*(x - xp)/p)**2*cos(pi*(x - xp)/p)**4/L**4 - 15.0*cos(pi*(x - xp)/p)**6/L**4 + 45.0*sin(pi*(x - xp)/p)**6*cos(pi*(x - xp)/p)**2/L**6 - 170.0*sin(pi*(x - xp)/p)**4*cos(pi*(x - xp)/p)**4/L**6 + 45.0*sin(pi*(x - xp)/p)**2*cos(pi*(x - xp)/p)**6/L**6 + 15.0*sin(pi*(x - xp)/p)**6*cos(pi*(x - xp)/p)**4/L**8 - 15.0*sin(pi*(x - xp)/p)**4*cos(pi*(x - xp)/p)**6/L**8 + 1.0*sin(pi*(x - xp)/p)**6*cos(pi*(x - xp)/p)**6/L**10)/(L**2*p**6)\n",
      "lapl8_kernel_fact=pi**8*(-64.0*sin(pi*(x - xp)/p)**2 + 64.0*cos(pi*(x - xp)/p)**2 + 1008.0*sin(pi*(x - xp)/p)**4/L**2 - 6112.0*sin(pi*(x - xp)/p)**2*cos(pi*(x - xp)/p)**2/L**2 + 1008.0*cos(pi*(x - xp)/p)**4/L**2 - 840.0*sin(pi*(x - xp)/p)**6/L**4 + 14616.0*sin(pi*(x - xp)/p)**4*cos(pi*(x - xp)/p)**2/L**4 - 14616.0*sin(pi*(x - xp)/p)**2*cos(pi*(x - xp)/p)**4/L**4 + 840.0*cos(pi*(x - xp)/p)**6/L**4 + 105.0*sin(pi*(x - xp)/p)**8/L**6 - 5460.0*sin(pi*(x - xp)/p)**6*cos(pi*(x - xp)/p)**2/L**6 + 16086.0*sin(pi*(x - xp)/p)**4*cos(pi*(x - xp)/p)**4/L**6 - 5460.0*sin(pi*(x - xp)/p)**2*cos(pi*(x - xp)/p)**6/L**6 + 105.0*cos(pi*(x - xp)/p)**8/L**6 + 420.0*sin(pi*(x - xp)/p)**8*cos(pi*(x - xp)/p)**2/L**8 - 3780.0*sin(pi*(x - xp)/p)**6*cos(pi*(x - xp)/p)**4/L**8 + 3780.0*sin(pi*(x - xp)/p)**4*cos(pi*(x - xp)/p)**6/L**8 - 420.0*sin(pi*(x - xp)/p)**2*cos(pi*(x - xp)/p)**8/L**8 + 210.0*sin(pi*(x - xp)/p)**8*cos(pi*(x - xp)/p)**4/L**10 - 644.0*sin(pi*(x - xp)/p)**6*cos(pi*(x - xp)/p)**6/L**10 + 210.0*sin(pi*(x - xp)/p)**4*cos(pi*(x - xp)/p)**8/L**10 + 28.0*sin(pi*(x - xp)/p)**8*cos(pi*(x - xp)/p)**6/L**12 - 28.0*sin(pi*(x - xp)/p)**6*cos(pi*(x - xp)/p)**8/L**12 + 1.0*sin(pi*(x - xp)/p)**8*cos(pi*(x - xp)/p)**8/L**14)/(L**2*p**8)\n"
     ]
    }
   ],
   "source": [
    "# just comment this symbolic code out since don't want to run this each time I'm doing analysis\n",
    "\n",
    "# first compute all the kernel derivatives\n",
    "import sympy as sym\n",
    "\n",
    "x = sym.Symbol('x')\n",
    "xp = sym.Symbol('xp')\n",
    "L = sym.Symbol('L')\n",
    "pi = sym.Symbol('pi')\n",
    "p = sym.Symbol('p')\n",
    "\n",
    "kernel = sym.exp(-0.5 / L / L * sym.sin(pi * (x - xp) / p)**2)\n",
    "print(f\"{kernel=}\")\n",
    "\n",
    "dx2_kernel = kernel.diff(x, x)\n",
    "dx2_kernel_fact = dx2_kernel / kernel\n",
    "print(f\"{dx2_kernel_fact=}\")\n",
    "\n",
    "dx4_kernel = kernel.diff(x, x, x, x)\n",
    "dx4_kernel_fact = dx4_kernel / kernel\n",
    "# dx4_kernel = sym.simplify(dx4_kernel)\n",
    "print(f\"{dx4_kernel_fact=}\")\n",
    "\n",
    "dx6_kernel = kernel.diff(x, x, x, x, xp, xp)\n",
    "dx6_kernel_fact = dx6_kernel / kernel\n",
    "# dx6_kernel = sym.simplify(dx6_kernel)\n",
    "print(f\"{dx6_kernel_fact=}\")\n",
    "\n",
    "dx8_kernel = kernel.diff(x, x, x, x, xp, xp, xp, xp)\n",
    "dx8_kernel_fact = dx8_kernel / kernel\n",
    "# dx8_kernel = sym.simplify(dx8_kernel)\n",
    "print(f\"{dx8_kernel_fact=}\")"
   ]
  },
  {
   "cell_type": "code",
   "execution_count": null,
   "metadata": {},
   "outputs": [],
   "source": [
    "# define the kernel \n",
    "kernel=exp(-0.5*sin(pi*(x - xp)/p)**2/L**2)\n",
    "lapl2_kernel_fact=1.0*pi**2*(sin(pi*(x - xp)/p)**2 - cos(pi*(x - xp)/p)**2 + sin(pi*(x - xp)/p)**2*cos(pi*(x - xp)/p)**2/L**2)/(L**2*p**2)\n",
    "lapl4_kernel_fact=pi**4*(-4.0*sin(pi*(x - xp)/p)**2 + 4.0*cos(pi*(x - xp)/p)**2 + 3.0*sin(pi*(x - xp)/p)**4/L**2 - 22.0*sin(pi*(x - xp)/p)**2*cos(pi*(x - xp)/p)**2/L**2 + 3.0*cos(pi*(x - xp)/p)**4/L**2 + 6.0*sin(pi*(x - xp)/p)**4*cos(pi*(x - xp)/p)**2/L**4 - 6.0*sin(pi*(x - xp)/p)**2*cos(pi*(x - xp)/p)**4/L**4 + 1.0*sin(pi*(x - xp)/p)**4*cos(pi*(x - xp)/p)**4/L**6)/(L**2*p**4)\n",
    "lapl6_kernel_fact=pi**6*(16.0*sin(pi*(x - xp)/p)**2 - 16.0*cos(pi*(x - xp)/p)**2 - 60.0*sin(pi*(x - xp)/p)**4/L**2 + 376.0*sin(pi*(x - xp)/p)**2*cos(pi*(x - xp)/p)**2/L**2 - 60.0*cos(pi*(x - xp)/p)**4/L**2 + 15.0*sin(pi*(x - xp)/p)**6/L**4 - 345.0*sin(pi*(x - xp)/p)**4*cos(pi*(x - xp)/p)**2/L**4 + 345.0*sin(pi*(x - xp)/p)**2*cos(pi*(x - xp)/p)**4/L**4 - 15.0*cos(pi*(x - xp)/p)**6/L**4 + 45.0*sin(pi*(x - xp)/p)**6*cos(pi*(x - xp)/p)**2/L**6 - 170.0*sin(pi*(x - xp)/p)**4*cos(pi*(x - xp)/p)**4/L**6 + 45.0*sin(pi*(x - xp)/p)**2*cos(pi*(x - xp)/p)**6/L**6 + 15.0*sin(pi*(x - xp)/p)**6*cos(pi*(x - xp)/p)**4/L**8 - 15.0*sin(pi*(x - xp)/p)**4*cos(pi*(x - xp)/p)**6/L**8 + 1.0*sin(pi*(x - xp)/p)**6*cos(pi*(x - xp)/p)**6/L**10)/(L**2*p**6)\n",
    "lapl8_kernel_fact=pi**8*(-64.0*sin(pi*(x - xp)/p)**2 + 64.0*cos(pi*(x - xp)/p)**2 + 1008.0*sin(pi*(x - xp)/p)**4/L**2 - 6112.0*sin(pi*(x - xp)/p)**2*cos(pi*(x - xp)/p)**2/L**2 + 1008.0*cos(pi*(x - xp)/p)**4/L**2 - 840.0*sin(pi*(x - xp)/p)**6/L**4 + 14616.0*sin(pi*(x - xp)/p)**4*cos(pi*(x - xp)/p)**2/L**4 - 14616.0*sin(pi*(x - xp)/p)**2*cos(pi*(x - xp)/p)**4/L**4 + 840.0*cos(pi*(x - xp)/p)**6/L**4 + 105.0*sin(pi*(x - xp)/p)**8/L**6 - 5460.0*sin(pi*(x - xp)/p)**6*cos(pi*(x - xp)/p)**2/L**6 + 16086.0*sin(pi*(x - xp)/p)**4*cos(pi*(x - xp)/p)**4/L**6 - 5460.0*sin(pi*(x - xp)/p)**2*cos(pi*(x - xp)/p)**6/L**6 + 105.0*cos(pi*(x - xp)/p)**8/L**6 + 420.0*sin(pi*(x - xp)/p)**8*cos(pi*(x - xp)/p)**2/L**8 - 3780.0*sin(pi*(x - xp)/p)**6*cos(pi*(x - xp)/p)**4/L**8 + 3780.0*sin(pi*(x - xp)/p)**4*cos(pi*(x - xp)/p)**6/L**8 - 420.0*sin(pi*(x - xp)/p)**2*cos(pi*(x - xp)/p)**8/L**8 + 210.0*sin(pi*(x - xp)/p)**8*cos(pi*(x - xp)/p)**4/L**10 - 644.0*sin(pi*(x - xp)/p)**6*cos(pi*(x - xp)/p)**6/L**10 + 210.0*sin(pi*(x - xp)/p)**4*cos(pi*(x - xp)/p)**8/L**10 + 28.0*sin(pi*(x - xp)/p)**8*cos(pi*(x - xp)/p)**6/L**12 - 28.0*sin(pi*(x - xp)/p)**6*cos(pi*(x - xp)/p)**8/L**12 + 1.0*sin(pi*(x - xp)/p)**8*cos(pi*(x - xp)/p)**8/L**14)/(L**2*p**8)\n"
   ]
  }
 ],
 "metadata": {
  "kernelspec": {
   "display_name": "F2F",
   "language": "python",
   "name": "python3"
  },
  "language_info": {
   "codemirror_mode": {
    "name": "ipython",
    "version": 3
   },
   "file_extension": ".py",
   "mimetype": "text/x-python",
   "name": "python",
   "nbconvert_exporter": "python",
   "pygments_lexer": "ipython3",
   "version": "3.9.19"
  }
 },
 "nbformat": 4,
 "nbformat_minor": 2
}
