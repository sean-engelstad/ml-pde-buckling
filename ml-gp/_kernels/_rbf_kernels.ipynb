{
 "cells": [
  {
   "cell_type": "code",
   "execution_count": 1,
   "metadata": {},
   "outputs": [
    {
     "name": "stdout",
     "output_type": "stream",
     "text": [
      "kernel=exp(-0.5*(x - xp)**2/L**2)\n",
      "dx=1.0*(-x + xp)/L**2\n",
      "dx2_kernel=1.0*(-1 + (x - xp)**2/L**2)*exp(-0.5*(x - xp)**2/L**2)/L**2\n",
      "dx3_kernel=(3.0*L**2 - 1.0*(x - xp)**2)*(x - xp)/L**6\n",
      "dx4_kernel=(3.0 - 6.0*(x - xp)**2/L**2 + 1.0*(x - xp)**4/L**4)*exp(-0.5*(x - xp)**2/L**2)/L**4\n",
      "dx5_kernel=-(x - xp)*(15.0*L**4 - 10.0*L**2*(x - xp)**2 + 1.0*(x - xp)**4)/L**10\n",
      "dx6_kernel=(-15.0 + 45.0*(x - xp)**2/L**2 - 15.0*(x - xp)**4/L**4 + 1.0*(x - xp)**6/L**6)*exp(-0.5*(x - xp)**2/L**2)/L**6\n",
      "dx8_kernel=(105.0 - 420.0*(x - xp)**2/L**2 + 210.0*(x - xp)**4/L**4 - 28.0*(x - xp)**6/L**6 + 1.0*(x - xp)**8/L**8)*exp(-0.5*(x - xp)**2/L**2)/L**8\n",
      "dx10_kernel=(-945.0 + 4725.0*(x - xp)**2/L**2 - 3150.0*(x - xp)**4/L**4 + 630.0*(x - xp)**6/L**6 - 45.0*(x - xp)**8/L**8 + 1.0*(x - xp)**10/L**10)*exp(-0.5*(x - xp)**2/L**2)/L**10\n",
      "dx12_kernel=(10395.0 - 62370.0*(x - xp)**2/L**2 + 51975.0*(x - xp)**4/L**4 - 13860.0*(x - xp)**6/L**6 + 1485.0*(x - xp)**8/L**8 - 66.0*(x - xp)**10/L**10 + 1.0*(x - xp)**12/L**12)*exp(-0.5*(x - xp)**2/L**2)/L**12\n",
      "dx14_kernel=(-135135.0 + 945945.0*(x - xp)**2/L**2 - 945945.0*(x - xp)**4/L**4 + 315315.0*(x - xp)**6/L**6 - 45045.0*(x - xp)**8/L**8 + 3003.0*(x - xp)**10/L**10 - 91.0*(x - xp)**12/L**12 + 1.0*(x - xp)**14/L**14)*exp(-0.5*(x - xp)**2/L**2)/L**14\n",
      "dx16_kernel=(2027025.0 - 16216200.0*(x - xp)**2/L**2 + 18918900.0*(x - xp)**4/L**4 - 7567560.0*(x - xp)**6/L**6 + 1351350.0*(x - xp)**8/L**8 - 120120.0*(x - xp)**10/L**10 + 5460.0*(x - xp)**12/L**12 - 120.0*(x - xp)**14/L**14 + 1.0*(x - xp)**16/L**16)*exp(-0.5*(x - xp)**2/L**2)/L**16\n"
     ]
    }
   ],
   "source": [
    "# first compute all the kernel derivatives\n",
    "import sympy as sym\n",
    "\n",
    "x = sym.Symbol('x')\n",
    "xp = sym.Symbol('xp')\n",
    "L = sym.Symbol('L')\n",
    "\n",
    "kernel = sym.exp(-0.5 / L / L * (x - xp)**2)\n",
    "print(f\"{kernel=}\")\n",
    "\n",
    "dx = sym.simplify(kernel.diff(x) / kernel)\n",
    "print(f\"{dx=}\")\n",
    "\n",
    "dx2_kernel = kernel.diff(x, x)\n",
    "print(f\"{dx2_kernel=}\")\n",
    "\n",
    "dx3_kernel = sym.simplify(kernel.diff(x, x, x) / kernel)\n",
    "print(f\"{dx3_kernel=}\")\n",
    "\n",
    "dx4_kernel = kernel.diff(x, x, x, x)\n",
    "print(f\"{dx4_kernel=}\")\n",
    "\n",
    "dx5_kernel = sym.simplify(kernel.diff(x, x, x, x, x) / kernel)\n",
    "print(f\"{dx5_kernel=}\")\n",
    "\n",
    "dx6_kernel = kernel.diff(x, x, x, x, xp, xp)\n",
    "print(f\"{dx6_kernel=}\")\n",
    "\n",
    "dx8_kernel = kernel.diff(x, x, x, x, xp, xp, xp, xp)\n",
    "print(f\"{dx8_kernel=}\")\n",
    "\n",
    "dx10_kernel = kernel.diff(x, x, x, x, xp, xp, xp, xp, x, x)\n",
    "print(f\"{dx10_kernel=}\")\n",
    "\n",
    "dx12_kernel = kernel.diff(x, x, x, x, xp, xp, xp, xp, x, x, x, x)\n",
    "print(f\"{dx12_kernel=}\")\n",
    "\n",
    "dx14_kernel = kernel.diff(x, x, x, x, xp, xp, xp, xp, x, x, x, x, x, x)\n",
    "print(f\"{dx14_kernel=}\")\n",
    "\n",
    "dx16_kernel = kernel.diff(x, x, x, x, xp, xp, xp, xp, x, x, x, x, x, x, x, x)\n",
    "print(f\"{dx16_kernel=}\")"
   ]
  }
 ],
 "metadata": {
  "kernelspec": {
   "display_name": "F2F",
   "language": "python",
   "name": "python3"
  },
  "language_info": {
   "codemirror_mode": {
    "name": "ipython",
    "version": 3
   },
   "file_extension": ".py",
   "mimetype": "text/x-python",
   "name": "python",
   "nbconvert_exporter": "python",
   "pygments_lexer": "ipython3",
   "version": "3.9.18"
  }
 },
 "nbformat": 4,
 "nbformat_minor": 2
}
