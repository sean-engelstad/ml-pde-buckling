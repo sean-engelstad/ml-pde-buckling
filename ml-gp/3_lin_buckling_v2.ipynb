{
 "cells": [
  {
   "cell_type": "markdown",
   "metadata": {},
   "source": [
    "# Linear Buckilng of Panel V2\n",
    "use window kernel?\n",
    "do cylinder buckling next?\n",
    "can try sum of sinusoidal / periodic modes? That would probably be great for this problem (almost cheating if it works)."
   ]
  }
 ],
 "metadata": {
  "language_info": {
   "name": "python"
  }
 },
 "nbformat": 4,
 "nbformat_minor": 2
}
