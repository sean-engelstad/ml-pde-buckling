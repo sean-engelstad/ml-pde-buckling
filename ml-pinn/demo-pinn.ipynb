{
 "cells": [
  {
   "cell_type": "markdown",
   "metadata": {},
   "source": [
    "## Demo PINN Example\n",
    "PINN inspired from this website [PINN]https://georgemilosh.github.io/blog/2022/distill/). \n",
    "This is a very nice paper as well: https://www.sciencedirect.com/science/article/pii/S0021999118307125."
   ]
  },
  {
   "cell_type": "code",
   "execution_count": 13,
   "metadata": {},
   "outputs": [],
   "source": [
    "import tensorflow as tf\n",
    "import numpy as np\n",
    "\n",
    "# Set data type\n",
    "DTYPE='float32'\n",
    "tf.keras.backend.set_floatx(DTYPE)\n",
    "\n",
    "# Define residual of the PDE\n",
    "\n",
    "def init_model_simple(num_hidden_layers=1, num_neurons_per_layer=2):\n",
    "    # Initialize a feedforward neural network\n",
    "    model = tf.keras.Sequential()\n",
    "\n",
    "    # Input is one-dimensional (time + one spatial dimension)\n",
    "    model.add(tf.keras.Input(1))\n",
    "\n",
    "    # Append hidden layers\n",
    "    for _ in range(num_hidden_layers):\n",
    "        model.add(tf.keras.layers.Dense(num_neurons_per_layer,\n",
    "            activation=tf.keras.activations.exponential,\n",
    "            kernel_initializer='glorot_normal'))\n",
    "\n",
    "    # Output is one-dimensional\n",
    "    model.add(tf.keras.layers.Dense(1))\n",
    "    \n",
    "    return model\n",
    "\n",
    "model_simple = init_model_simple()"
   ]
  },
  {
   "cell_type": "code",
   "execution_count": 14,
   "metadata": {},
   "outputs": [
    {
     "name": "stdout",
     "output_type": "stream",
     "text": [
      "du/dx = [-0.00062836] = [-0.00062837]\n"
     ]
    }
   ],
   "source": [
    "def get_r_simple(model, x):\n",
    "    # A tf.GradientTape is used to compute derivatives in TensorFlow\n",
    "    with tf.GradientTape(persistent=True) as tape:\n",
    "        tape.watch(x)\n",
    "\n",
    "        # Determine residual \n",
    "        u = model(x)\n",
    "\n",
    "        # Compute gradient u_x within the GradientTape\n",
    "        # since we need second derivatives\n",
    "        u_x = tape.gradient(u, x)\n",
    "\n",
    "    del tape\n",
    "\n",
    "    return u_x\n",
    "\n",
    "w21 = model_simple.weights[2].numpy()[0] # last layer\n",
    "w22 = model_simple.weights[2].numpy()[1]\n",
    "\n",
    "w11 = model_simple.weights[0].numpy()[0,0] # first layer\n",
    "w12 = model_simple.weights[0].numpy()[0,1]\n",
    "\n",
    "x = tf.constant([1], dtype=tf.float32)\n",
    "print(f'du/dx = {get_r_simple(model_simple, tf.constant(x, dtype=tf.float32)).numpy()} = {w21*w11*np.exp(w11*x) + w22*w12*np.exp(w12)}' )\n",
    "# print(s)"
   ]
  },
  {
   "cell_type": "code",
   "execution_count": 15,
   "metadata": {},
   "outputs": [
    {
     "name": "stdout",
     "output_type": "stream",
     "text": [
      "dense_10/kernel:0 has gradients [[ 0.07702774 -0.4354624 ]]\n",
      "dense_10/bias:0 has gradients [-0.03851392  0.03788556]\n",
      "dense_11/kernel:0 has gradients [[-0.23884392]\n",
      " [-0.0738811 ]]\n",
      "dense_11/bias:0 has gradients None\n"
     ]
    }
   ],
   "source": [
    "def compute_loss_simple(model, X_r):\n",
    "    return get_r_simple(model, X_r)\n",
    "\n",
    "def get_grad_simple(model, X_r):\n",
    "    \n",
    "    with tf.GradientTape(persistent=True) as tape:\n",
    "        # This tape is for derivatives with\n",
    "        # respect to trainable variables\n",
    "        #tape.watch(model.trainable_variables)\n",
    "        loss = compute_loss_simple(model, X_r)\n",
    "\n",
    "    g = tape.gradient(loss, model.trainable_variables)\n",
    "    del tape\n",
    "\n",
    "    return loss, g\n",
    "\n",
    "loss, g = get_grad_simple(model_simple, x)\n",
    "for gi, varsi in zip(g, model_simple.variables):\n",
    "    print(f'{varsi.name} has gradients {gi}')\n"
   ]
  }
 ],
 "metadata": {
  "kernelspec": {
   "display_name": "Python 3",
   "language": "python",
   "name": "python3"
  },
  "language_info": {
   "codemirror_mode": {
    "name": "ipython",
    "version": 3
   },
   "file_extension": ".py",
   "mimetype": "text/x-python",
   "name": "python",
   "nbconvert_exporter": "python",
   "pygments_lexer": "ipython3",
   "version": "3.8.10"
  }
 },
 "nbformat": 4,
 "nbformat_minor": 2
}
