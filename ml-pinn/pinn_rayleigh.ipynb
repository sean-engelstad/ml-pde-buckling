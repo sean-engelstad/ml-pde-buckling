{
 "cells": [
  {
   "cell_type": "markdown",
   "metadata": {},
   "source": [
    "## Use PINN with Rayleigh Loss\n",
    "PINN solves collocation method with strong-form, with a Rayleigh loss. My goal here is to build two models one $w(x,y) \\approx w_{\\theta}(x,y)$ and one for second derivatives $ H_{x} w \\approx H_{x} w_{\\phi}(x,y)$. Then you can get the fourth derivatives by auto-diff on the second-order derivative model.\n",
    "PINN inspired from this website [PINN]https://georgemilosh.github.io/blog/2022/distill/). "
   ]
  },
  {
   "cell_type": "code",
   "execution_count": null,
   "metadata": {},
   "outputs": [],
   "source": [
    "import tensorflow as tf\n",
    "import numpy as np\n",
    "\n",
    "# Set data type\n",
    "DTYPE='float32'\n",
    "tf.keras.backend.set_floatx(DTYPE)\n",
    "\n",
    "# Define residual of the PDE\n",
    "\n",
    "def init_model_simple(num_hidden_layers=1, num_neurons_per_layer=2):\n",
    "    # Initialize a feedforward neural network\n",
    "    model = tf.keras.Sequential()\n",
    "\n",
    "    # Input is one-dimensional (time + one spatial dimension)\n",
    "    model.add(tf.keras.Input(1))\n",
    "\n",
    "    # Append hidden layers\n",
    "    for _ in range(num_hidden_layers):\n",
    "        model.add(tf.keras.layers.Dense(num_neurons_per_layer,\n",
    "            activation=tf.keras.activations.exponential,\n",
    "            kernel_initializer='glorot_normal'))\n",
    "\n",
    "    # Output is one-dimensional\n",
    "    model.add(tf.keras.layers.Dense(1))\n",
    "    \n",
    "    return model\n",
    "\n",
    "model_simple = init_model_simple()\n",
    "\n"
   ]
  }
 ],
 "metadata": {
  "language_info": {
   "name": "python"
  }
 },
 "nbformat": 4,
 "nbformat_minor": 2
}
